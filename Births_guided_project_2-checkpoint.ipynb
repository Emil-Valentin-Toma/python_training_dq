{
 "cells": [
  {
   "cell_type": "code",
   "execution_count": 1,
   "metadata": {
    "collapsed": true
   },
   "outputs": [
    {
     "data": {
      "text/plain": [
       "['year,month,date_of_month,day_of_week,births',\n",
       " '1994,1,1,6,8096',\n",
       " '1994,1,2,7,7772',\n",
       " '1994,1,3,1,10142',\n",
       " '1994,1,4,2,11248',\n",
       " '1994,1,5,3,11053',\n",
       " '1994,1,6,4,11406',\n",
       " '1994,1,7,5,11251',\n",
       " '1994,1,8,6,8653',\n",
       " '1994,1,9,7,7910']"
      ]
     },
     "execution_count": 1,
     "metadata": {},
     "output_type": "execute_result"
    }
   ],
   "source": [
    "open_file = open(\"US_births_1994-2003_CDC_NCHS.csv\",\"r\")\n",
    "read_file = open_file.read()\n",
    "split_file = read_file.split(\"\\n\")\n",
    "split_file[:4]"
   ]
  },
  {
   "cell_type": "code",
   "execution_count": 2,
   "metadata": {
    "collapsed": true
   },
   "outputs": [
    {
     "data": {
      "text/plain": [
       "[[1994, 1, 1, 6, 8096],\n",
       " [1994, 1, 2, 7, 7772],\n",
       " [1994, 1, 3, 1, 10142],\n",
       " [1994, 1, 4, 2, 11248],\n",
       " [1994, 1, 5, 3, 11053],\n",
       " [1994, 1, 6, 4, 11406],\n",
       " [1994, 1, 7, 5, 11251],\n",
       " [1994, 1, 8, 6, 8653],\n",
       " [1994, 1, 9, 7, 7910],\n",
       " [1994, 1, 10, 1, 10498]]"
      ]
     },
     "execution_count": 2,
     "metadata": {},
     "output_type": "execute_result"
    }
   ],
   "source": [
    "def read_csv(enter_a_file):\n",
    "    fct_open_file = open(enter_a_file,\"r\")\n",
    "    fct_read_file = fct_open_file.read()\n",
    "    fct_split_file = fct_read_file.split(\"\\n\")\n",
    "    string_list = fct_split_file[1:len(fct_split_file)]#header removed\n",
    "    final_list = []\n",
    "    for lista in string_list:\n",
    "        int_fields = []\n",
    "        string_fields = lista.split(\",\")\n",
    "        for each in string_fields:\n",
    "            int_fields.append(int(each))\n",
    "        final_list.append(int_fields)\n",
    "    return final_list\n",
    "\n",
    "cdc_list = read_csv(\"US_births_1994-2003_CDC_NCHS.csv\")\n",
    "cdc_list[:4]"
   ]
  },
  {
   "cell_type": "code",
   "execution_count": 3,
   "metadata": {
    "collapsed": false
   },
   "outputs": [
    {
     "data": {
      "text/plain": [
       "{1: 3232517,\n",
       " 2: 3018140,\n",
       " 3: 3322069,\n",
       " 4: 3185314,\n",
       " 5: 3350907,\n",
       " 6: 3296530,\n",
       " 7: 3498783,\n",
       " 8: 3525858,\n",
       " 9: 3439698,\n",
       " 10: 3378814,\n",
       " 11: 3171647,\n",
       " 12: 3301860}"
      ]
     },
     "execution_count": 3,
     "metadata": {},
     "output_type": "execute_result"
    }
   ],
   "source": [
    "def month_births(list_of_lists):\n",
    "    births_per_month = {}\n",
    "    for lista in list_of_lists:\n",
    "        if lista[1] in births_per_month:\n",
    "            births_per_month[lista[1]] += lista[4]\n",
    "        else:\n",
    "            births_per_month[lista[1]] = lista[4]\n",
    "    return births_per_month\n",
    "\n",
    "cdc_month_births = month_births(cdc_list)\n",
    "cdc_month_births"
   ]
  },
  {
   "cell_type": "code",
   "execution_count": 8,
   "metadata": {
    "collapsed": false
   },
   "outputs": [
    {
     "data": {
      "text/plain": [
       "{1: 5789166,\n",
       " 2: 6446196,\n",
       " 3: 6322855,\n",
       " 4: 6288429,\n",
       " 5: 6233657,\n",
       " 6: 4562111,\n",
       " 7: 4079723}"
      ]
     },
     "execution_count": 8,
     "metadata": {},
     "output_type": "execute_result"
    }
   ],
   "source": [
    "def dow_births(list_of_lists):\n",
    "    births_per_day = {}\n",
    "    for lista in list_of_lists:\n",
    "        if lista[3] in births_per_day:\n",
    "            births_per_day[lista[3]] += lista[4]\n",
    "        else:\n",
    "            births_per_day[lista[3]] = lista[4]\n",
    "    return births_per_day\n",
    "cdc_day_births = dow_births(cdc_list)\n",
    "cdc_day_births"
   ]
  },
  {
   "cell_type": "code",
   "execution_count": 15,
   "metadata": {
    "collapsed": false
   },
   "outputs": [
    {
     "name": "stdout",
     "output_type": "stream",
     "text": [
      "births per year:  {2000: 4058814, 2001: 4025933, 2002: 4021726, 2003: 4089950, 1994: 3952767, 1995: 3899589, 1996: 3891494, 1997: 3880894, 1998: 3941553, 1999: 3959417}\n",
      "\n",
      " births per month:  {1: 3232517, 2: 3018140, 3: 3322069, 4: 3185314, 5: 3350907, 6: 3296530, 7: 3498783, 8: 3525858, 9: 3439698, 10: 3378814, 11: 3171647, 12: 3301860}\n",
      "\n",
      " births per day of month:  {1: 1276557, 2: 1288739, 3: 1304499, 4: 1288154, 5: 1299953, 6: 1304474, 7: 1310459, 8: 1312297, 9: 1303292, 10: 1320764, 11: 1314361, 12: 1318437, 13: 1277684, 14: 1320153, 15: 1319171, 16: 1315192, 17: 1324953, 18: 1326855, 19: 1318727, 20: 1324821, 21: 1322897, 22: 1317381, 23: 1293290, 24: 1288083, 25: 1272116, 26: 1284796, 27: 1294395, 28: 1307685, 29: 1223161, 30: 1202095, 31: 746696}\n",
      "\n",
      " births per weekday:  {1: 5789166, 2: 6446196, 3: 6322855, 4: 6288429, 5: 6233657, 6: 4562111, 7: 4079723}\n"
     ]
    }
   ],
   "source": [
    "def calc_counts(data, column):\n",
    "    dictionar={}\n",
    "    for lista in data: #data is a list of lists here\n",
    "        if lista[column] in dictionar:\n",
    "            dictionar[lista[column]] += lista[4]\n",
    "        else:\n",
    "            dictionar[lista[column]] = lista[4]\n",
    "    return dictionar\n",
    "    \n",
    "cdc_year_births = calc_counts(cdc_list,0)\n",
    "print(\"births per year: \",cdc_year_births)\n",
    "\n",
    "cdc_month_births = calc_counts(cdc_list,1)\n",
    "print(\"\\n births per month: \",cdc_month_births)\n",
    "\n",
    "cdc_dom_births = calc_counts(cdc_list,2)\n",
    "print(\"\\n births per day of month: \", cdc_dom_births)\n",
    "\n",
    "\n",
    "cdc_dow_births = calc_counts(cdc_list,3)\n",
    "print(\"\\n births per weekday: \", cdc_dow_births)\n",
    "\n",
    "\n"
   ]
  },
  {
   "cell_type": "markdown",
   "metadata": {},
   "source": [
    "Up to this point a dictionary has been filled, holding pairs of week day number and total births on taken place on every day along the years.\n",
    "\n",
    "The columns of these records that are subjected to reasearch are:\n",
    "\n",
    "    \"year\" contains the years in between 1994 and 2003 inclusive;\n",
    "    \"month\" holds the month number;\n",
    "    \"day_of_week\" has the days of the week as numbers, where \"1\" is Monday and \"7\" is Sunday. After last splitting they must be turned again into integers in order to format the dictionary as per request.\n",
    "    \"births\" is the number of births recorded for every day. After last splitting they must be turned again into integers in order to be able to perform addition on them.\n",
    "\n"
   ]
  },
  {
   "cell_type": "code",
   "execution_count": null,
   "metadata": {
    "collapsed": true
   },
   "outputs": [],
   "source": []
  }
 ],
 "metadata": {
  "kernelspec": {
   "display_name": "Python 3",
   "language": "python",
   "name": "python3"
  },
  "language_info": {
   "codemirror_mode": {
    "name": "ipython",
    "version": 3
   },
   "file_extension": ".py",
   "mimetype": "text/x-python",
   "name": "python",
   "nbconvert_exporter": "python",
   "pygments_lexer": "ipython3",
   "version": "3.6.0"
  }
 },
 "nbformat": 4,
 "nbformat_minor": 2
}
